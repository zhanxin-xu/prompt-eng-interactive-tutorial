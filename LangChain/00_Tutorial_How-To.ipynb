{
  "cells": [
    {
      "cell_type": "markdown",
      "metadata": {},
      "source": [
        "# LangChain 教程：入门指南"
      ]
    },
    {
      "cell_type": "markdown",
      "metadata": {},
      "source": [
        "欢迎来到 LangChain 教程！本笔记本将引导你了解 LangChain 的基本概念，并展示如何开始使用它来构建强大的语言模型应用程序。"
      ]
    },
    {
      "cell_type": "markdown",
      "metadata": {},
      "source": [
        "## 什么是 LangChain？\n",
        "LangChain 是一个用于开发由语言模型驱动的应用程序的框架。它提供了一套工具、组件和接口，旨在简化构建复杂 LLM 应用程序的过程，例如：\n",
        "\n",
        "- **数据感知 (Data-aware)**：允许 LLM 与其他数据源连接。\n",
        "- **代理 (Agentic)**：允许 LLM 与其环境交互。\n",
        "\n",
        "LangChain 的核心思想是将不同的 LLM 组件组合成“链”（Chains），从而创建更强大、更灵活的应用程序。"
      ]
    },
    {
      "cell_type": "markdown",
      "metadata": {},
      "source": [
        "## 准备工作：安装依赖\n",
        "我们已经通过 Poetry 安装了必要的库。如果你是手动安装，需要运行以下命令：\n",
        "\n",
        "```bash\n",
        "pip install langchain openai\n",
        "```\n",
        "\n",
        "如果你使用 Poetry，我们已经运行过：\n",
        "\n",
        "```bash\n",
        "poetry add \"langchain[openai]\"\n",
        "```"
      ]
    },
    {
      "cell_type": "markdown",
      "metadata": {},
      "source": [
        "## 设置 OpenAI API Key\n",
        "为了使用 OpenAI 模型，你需要设置 `OPENAI_API_KEY` 环境变量。请确保你的 API Key 已经设置，例如：\n",
        "\n",
        "```python\n",
        "import os\n",
        "os.environ[\"OPENAI_API_KEY\"] = \"YOUR_API_KEY\" # 建议使用环境变量或 .env 文件管理\n",
        "```\n",
        "\n",
        "**重要提示**：在实际项目中，请不要将 API Key 直接写在代码中，而应使用环境变量或更安全的配置方法。"
      ]
    },
    {
      "cell_type": "code",
      "execution_count": null,
      "metadata": {},
      "outputs": [],
      "source": [
        "import os\n",
        "# os.environ[\"OPENAI_API_KEY\"] = \"YOUR_API_KEY\"  # 请替换为你的实际 API Key"
      ]
    },
    {
      "cell_type": "markdown",
      "metadata": {},
      "source": [
        "## 使用简单的 LLM\n",
        "让我们创建一个简单的语言模型实例并尝试向它提问。我们将使用 `ChatOpenAI`。"
      ]
    },
    {
      "cell_type": "code",
      "execution_count": null,
      "metadata": {},
      "outputs": [],
      "source": [
        "from langchain_openai import ChatOpenAI\n",
        "from langchain_core.messages import HumanMessage, SystemMessage\n",
        "\n",
        "# 初始化一个语言模型\n",
        "# model = ChatOpenAI(temperature=0.7) # temperature 控制输出的随机性，0.7 是一个常用值\n",
        "\n",
        "# 你也可以指定模型，例如 gpt-4o\n",
        "model = ChatOpenAI(model=\"gpt-4o\", temperature=0.7)\n",
        "\n",
        "# 构造消息\n",
        "messages = [\n",
        "    SystemMessage(content=\"你是一个友好的AI助手，总是乐于助人。\"),\n",
        "    HumanMessage(content=\"你好，你能告诉我一些关于 LangChain 的信息吗？\")\n",
        "]\n",
        "\n",
        "# 调用模型\n",
        "response = model.invoke(messages)\n",
        "\n",
        "print(response.content)"
      ]
    },
    {
      "cell_type": "markdown",
      "metadata": {},
      "source": [
        "## 更多功能：链 (Chains)\n",
        "LangChain 的核心是“链”。链允许你将多个 LLM 调用或其他组件（例如数据预处理、后处理）组合在一起，以完成更复杂的任务。"
      ]
    },
    {
      "cell_type": "code",
      "execution_count": null,
      "metadata": {},
      "outputs": [],
      "source": [
        "from langchain_core.prompts import ChatPromptTemplate\n",
        "from langchain_core.output_parsers import StrOutputParser\n",
        "\n",
        "# 定义一个提示模板\n",
        "prompt = ChatPromptTemplate.from_messages([\n",
        "    (\"system\", \"你是一个乐于助人的翻译助手。将用户输入翻译成{language}。\"),\n",
        "    (\"user\", \"{text}\")\n",
        "])\n",
        "\n",
        "# 创建一个链：提示 -> 模型 -> 输出解析器\n",
        "chain = prompt | model | StrOutputParser()\n",
        "\n",
        "# 调用链\n",
        "response = chain.invoke({\"language\": \"French\", \"text\": \"Hello, how are you?\"})\n",
        "\n",
        "print(response)"
      ]
    }
  ]
}
